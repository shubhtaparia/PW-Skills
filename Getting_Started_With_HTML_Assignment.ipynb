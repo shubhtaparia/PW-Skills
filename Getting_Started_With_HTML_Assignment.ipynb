{
  "nbformat": 4,
  "nbformat_minor": 0,
  "metadata": {
    "colab": {
      "provenance": []
    },
    "kernelspec": {
      "name": "python3",
      "display_name": "Python 3"
    },
    "language_info": {
      "name": "python"
    }
  },
  "cells": [
    {
      "cell_type": "code",
      "execution_count": null,
      "metadata": {
        "id": "LGqVVqB9z5eo"
      },
      "outputs": [],
      "source": []
    },
    {
      "cell_type": "markdown",
      "source": [
        "**[all the codes visible is made on vs code thats why colab is not displaying as it primarily executes python code]**\n",
        "\n",
        "# #**Getting Started With HTML Assignment**\n",
        "\n",
        "Q1 Write a simple program in HTML  that displays the heading \"HTML defines the content and structure of your website” on the web browser.\n"
      ],
      "metadata": {
        "id": "IhP2n_Ti0x_-"
      }
    },
    {
      "cell_type": "code",
      "source": [
        "<!DOCTYPE html>\n",
        "<html lang=\"en\">\n",
        "<head>\n",
        "    <meta charset=\"UTF-8\">\n",
        "    <meta name=\"viewport\" content=\"width=device-width, initial-scale=1.0\">\n",
        "    <title>assignment 2</title>\n",
        "</head>\n",
        "<body>\n",
        "  <p>HTML defines the content and structure of your website</p>\n",
        "</body>\n",
        "</html>"
      ],
      "metadata": {
        "id": "3u1mOX2R_uU1"
      },
      "execution_count": null,
      "outputs": []
    },
    {
      "cell_type": "markdown",
      "source": [
        "Q2 Explain the purpose of comments in HTML and provide an example of how to use comments in an HTML document.\n",
        "\n",
        " -> the comments are used for explaining code ,i.e. it wont be be seen on user interface but while inspecting it will be visible. So that who wants to understand the code he/she can read comment, which will give summary of the code\n",
        "\n",
        " the folowing code is an example:\n"
      ],
      "metadata": {
        "id": "tScPkcUe3avA"
      }
    },
    {
      "cell_type": "code",
      "source": [
        "<!DOCTYPE html>\n",
        "<html lang=\"en\">\n",
        "<head>\n",
        "    <meta charset=\"UTF-8\">\n",
        "    <meta name=\"viewport\" content=\"width=device-width, initial-scale=1.0\">\n",
        "    <title>Document</title>\n",
        "</head>\n",
        "<body>\n",
        "    this is line 1\n",
        "    <!-- this is a comment for assignment 2 Q2 -->\n",
        "</body>\n",
        "</html>"
      ],
      "metadata": {
        "id": "dlq4pvDL54ra"
      },
      "execution_count": null,
      "outputs": []
    },
    {
      "cell_type": "markdown",
      "source": [
        " Q3 Write an HTML program that includes a heading, a paragraph of text, a horizontal line, and a line break.\n",
        "Arrange these elements to create a simple web page layout.\n",
        "\n"
      ],
      "metadata": {
        "id": "Ek-khotg8Krg"
      }
    },
    {
      "cell_type": "code",
      "source": [
        "<!DOCTYPE html>\n",
        "<html lang=\"en\">\n",
        "<head>\n",
        "    <meta charset=\"UTF-8\">\n",
        "    <meta name=\"viewport\" content=\"width=device-width, initial-scale=1.0\">\n",
        "    <title>Document</title>\n",
        "</head>\n",
        "<body>\n",
        "   <h1>this is heading</h1>\n",
        "<p>this is a paragraph <br>\n",
        "this is line after line break</p>\n",
        "<hr>\n",
        "</body>\n",
        "</html>"
      ],
      "metadata": {
        "id": "hkd5TYLs5xYE"
      },
      "execution_count": null,
      "outputs": []
    },
    {
      "cell_type": "markdown",
      "source": [
        "Q4 Write a short note on Tag and element with an example.\n",
        "\n",
        "-> a tag is the keyword that together plays a key role in designing the structure of an html document.Tags contain three main parts: an opening tag, content, and a closing tag. However, some HTML tags are self-closing and do not require a closing tag.\n",
        " example: br tag(self closing), p tag ( non self closing)\n",
        "\n",
        "An HTML element is a type of HTML (HyperText Markup Language) document component that adds semantics and formatting to parts of a document, such as making text bold, organizing it into paragraphs, lists, and tables, or embedding hyperlinks and images. Each element can have HTML attributes specified and can also contain content, including other elements and text.\n",
        "\n",
        "example:<p>This is a paragraph.</p>\n",
        "\n",
        " Q5 What is the DOCTYPE Declaration in HTML?\n",
        "  \n",
        "  -> DOCTYPE declaration in html declared that it is html 5 document type.\n",
        "  <hr>"
      ],
      "metadata": {
        "id": "z049CWtH_M0P"
      }
    }
  ]
}