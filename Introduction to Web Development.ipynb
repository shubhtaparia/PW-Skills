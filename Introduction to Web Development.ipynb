{
  "nbformat": 4,
  "nbformat_minor": 0,
  "metadata": {
    "colab": {
      "provenance": []
    },
    "kernelspec": {
      "name": "python3",
      "display_name": "Python 3"
    },
    "language_info": {
      "name": "python"
    }
  },
  "cells": [
    {
      "cell_type": "code",
      "execution_count": null,
      "metadata": {
        "id": "xy9QTAWWz1fq"
      },
      "outputs": [],
      "source": []
    },
    {
      "cell_type": "markdown",
      "source": [
        "#Introduction to Web Development\n",
        "\n",
        "Q1 Explain the main components of client-server architecture and their functions.\n",
        "\n",
        "   -> the main components of cient server architecture are:\n",
        "1. client end : it sends a request to the server\n",
        "2. server end : it accepts request, processes it and responds on it\n",
        "3. IP adress : it is used for identifying devices and processes\n",
        "\n",
        "\n",
        "Q2 Discuss the various career paths available after completing a web development course.\n",
        "\n",
        "   -> After completing a web deveopement course one can choose various paths for his career like:\n",
        "\n",
        "1. Front end developer: it looks after user intterface and focuses on design and working of the interface visible to client\n",
        "2. back end developer: it ooks after server logics, data bases and appication integeration\n",
        "3. full stack developer: it is responsible for both back end and front end\n",
        "4. web designer: it designs and structures the website\n",
        "5. web supervisor: it supervises the website by several activities like debugging, data integeration, etc.\n",
        "\n",
        "Q3 Describe the role of a web browser's developer tools in web development.\n",
        "\n",
        "  -> developer tools of a browser, like of google chrome or mozila firefox, provides us access to more details of the webpage by providing code,etc. It also helps in tasks ike debugging\n",
        "\n",
        "Q4What are the advantages of using a Version Control System like Git in a development project?\n",
        "\n",
        " ->it helps in collaberation with other developers,provides features like merging, branching, and version history. It makes changes more accurate and efficient.\n",
        "\n",
        " Q5Compare and contrast a text editor and an IDE, highlighting their key features and uses.\n",
        "\n",
        "-> **text editors**\n",
        "\n",
        "\n",
        "* there primary function is to make notes of something not coding\n",
        "* basic/primary codes can be made on it\n",
        "* extensions needs to be added on it seperately\n",
        "\n",
        " **version control systems**\n",
        "* it is primarily used for making codes\n",
        "* it can be used to make basic as well as complex codes\n",
        "* it has extensions already added on in it\n",
        "\n",
        "\n",
        "\n",
        "\n",
        "\n",
        "\n",
        "\n",
        "\n",
        "\n",
        "\n"
      ],
      "metadata": {
        "id": "XMAxdTizz64p"
      }
    }
  ]
}